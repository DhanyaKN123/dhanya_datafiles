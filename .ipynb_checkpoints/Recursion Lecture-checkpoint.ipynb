{
 "cells": [
  {
   "cell_type": "markdown",
   "metadata": {},
   "source": [
    "# Recursion\n",
    "\n",
    "## Introduction\n",
    "\n",
    "A **recursive function** is a function that calls itself. \n",
    "There are two parts to a recursive function. A **base case** which is the part of the function which in itself is *non* recursive and allows the function to end. Then the **recursive case** which makes the recursive call. It is important to note that if the base case is never executed the recursive function will never end causing a [stack overflow](https://www.stackoverflow.com). \n",
    "\n",
    "Below is an example of recursion for the fibanacci series: \n",
    "\\begin{align}\n",
    "f(x) = f(x-1) + f(x-2)\n",
    "\\end{align}\n"
   ]
  },
  {
   "cell_type": "code",
   "execution_count": 2,
   "metadata": {
    "collapsed": true
   },
   "outputs": [],
   "source": [
    "def fib(x):\n",
    "    # base case\n",
    "    if x == 0:\n",
    "        return 0\n",
    "    elif x == 1:\n",
    "        return 1\n",
    "    #recursive case\n",
    "    else:\n",
    "        return fib(x-1) + fib(x-2)"
   ]
  },
  {
   "cell_type": "markdown",
   "metadata": {},
   "source": [
    "## Dynamic Programming\n",
    "\n",
    "While the `fib(x)` function defined above is a valid recursive definition for the fibanacci sequence it is inefficient. We can improve it using **dynamic programming** using a table to record answers that have already been calculated.\n",
    "\n",
    "We can rewrite the above function and as we will see the dynamic programming solution runs much faster:\n"
   ]
  },
  {
   "cell_type": "code",
   "execution_count": 3,
   "metadata": {
    "collapsed": true
   },
   "outputs": [],
   "source": [
    "fib_numbers = {0: 0, 1: 1}\n",
    "def fib_dynamic(x):\n",
    "    if x < 2:\n",
    "        return fib_numbers[x]\n",
    "    else:\n",
    "        if (x-1) not in fib_numbers:\n",
    "            fib_numbers[x-1] = fib_dynamic(x-1)\n",
    "        if (x-2) not in fib_numbers:\n",
    "            fib_numbers[x-2] = fib_dynamic(x-2)\n",
    "        fib_numbers[x] = fib_numbers[x-1] + fib_numbers[x-2]\n",
    "        return fib_numbers[x]\n",
    "    "
   ]
  },
  {
   "cell_type": "code",
   "execution_count": 4,
   "metadata": {},
   "outputs": [
    {
     "name": "stdout",
     "output_type": "stream",
     "text": [
      "102334155\n",
      "Wall time: 0 ns\n",
      "102334155\n",
      "Wall time: 1min 46s\n"
     ]
    }
   ],
   "source": [
    "%time print(fib_dynamic(40))\n",
    "%time print(fib(40))"
   ]
  },
  {
   "cell_type": "markdown",
   "metadata": {},
   "source": [
    "## Tail Recursion\n",
    "\n",
    "Another type of recursion is **tail** recursion. This is similar to regular recursion except in this case tail recursion makes the recursive call at the end and performs the calculations first. Since all the calculations are performed first before the recursive call is made there is no reason to save the stack frame of the current call. So the compiler will optimize tail recursive calls such that only one stack frame is used. \n",
    "\n",
    "Let's take a look at a non tail recursive funtion and it's tail recursive counterpart:\n"
   ]
  },
  {
   "cell_type": "code",
   "execution_count": 5,
   "metadata": {
    "collapsed": true
   },
   "outputs": [],
   "source": [
    "# non tail recursive\n",
    "def fac(n):\n",
    "    if (n == 0):\n",
    "        return 1\n",
    "    else:\n",
    "        return n * fac(n-1)\n",
    "    \n",
    "# tail recursive \n",
    "def fac_helper(n, a):\n",
    "    if (n == 0):\n",
    "        return a\n",
    "    else:\n",
    "        return fac_tr(n-1, n*a)\n",
    "\n",
    "def fac_tr(n):\n",
    "    return fac_helper(n, 1)"
   ]
  },
  {
   "cell_type": "markdown",
   "metadata": {},
   "source": [
    "## Tail Recursion \n",
    "\n",
    "The main difference is that the tail recursive function makes use of an accumulator (*This should look familiar if you've written in a logic or functional language because this is equivalent to using fold*). The accumulator allows for the function to makes calculations before the recursive call is performed allowing only one stack frame to be used.\n",
    "\n",
    "We can take a look at the stack trace between the two for calculating factorial of 5:\n",
    "\n",
    "###### Non Tail Recursive\n",
    "\n",
    "$fac(5)$ <br>\n",
    "$5 * fac(4)$ <br>\n",
    "$5 * 4 * fac(3)$ <br>\n",
    "$5 * 4 * 3 * fac(2)$ <br>\n",
    "$5 * 4 * 3 * 2 * fac(1)$ <br>\n",
    "\n",
    "###### Tail Recursive\n",
    "fac_helper(5, 1) <br>\n",
    "fac_helper(4, 5) <br>\n",
    "fac_helper(3, 20) <br>\n",
    "fac_helper(2, 60) <br>\n",
    "fac_helper(1, 120) <br>\n",
    "\n",
    "\n",
    "## Divide and Conquer\n",
    "\n",
    "Another common use of recursion is in **divide and conquer** algorithms. Divide and conquer algorithms consist of two parts: <br>\n",
    "*Divide*: Smaller problems are solved recursively (except the base case) <br>\n",
    "*Conquer*: The solution to the original problem is then formed from the solutions of the subproblems. <br>\n",
    "\n",
    "We will encounter algorithms later in this class that use this principle such as:\n",
    "- Merge Sort\n",
    "- Maximal Subarray Problem\n",
    "\n",
    "They are also commonly used in artificial intelligence algorithms. Most recently the min max algorithm that was implemented in Alpha Go that combined markov chains and deep learning.\n",
    "\n",
    "The following is a simple example of calculating the sum of a list"
   ]
  },
  {
   "cell_type": "code",
   "execution_count": 6,
   "metadata": {
    "collapsed": true
   },
   "outputs": [],
   "source": [
    "# Divide and Conquer algorithm for list summation \n",
    "# We split the list half and calculate the summation of each sub list\n",
    "\n",
    "def sum(x):\n",
    "    if len(x) == 1:\n",
    "        return x[0]\n",
    "    else:\n",
    "        midpoint = int(len(x)/2)\n",
    "        return sum(x[:midpoint]) + sum(x[midpoint:])"
   ]
  },
  {
   "cell_type": "markdown",
   "metadata": {},
   "source": [
    "## More Examples of Recursion"
   ]
  },
  {
   "cell_type": "code",
   "execution_count": 47,
   "metadata": {
    "collapsed": true
   },
   "outputs": [],
   "source": [
    "# Quick Multiplication of numbers to the nth power\n",
    "# We use the mathematic principle that x^n == (x^(n/2))^2 (if n is odd then (x^(n/2))^2 * x)\n",
    "\n",
    "def pow(x, n):\n",
    "    if (n == 0):\n",
    "        return 1\n",
    "    if (n == 1):\n",
    "        return x\n",
    "    elif n % 2 == 0:\n",
    "        return pow(x, n/2)**2\n",
    "    else:\n",
    "        return (pow(x, (n-1)/2)**2)*x\n",
    "\n",
    "    \n",
    "# Recursive Length of a list\n",
    "# Since python list do not have head and tail attributes we will create a function to give us this information\n",
    "head_tail = lambda x: (x[0], x[1:])\n",
    "def length(l):\n",
    "    if l == []:\n",
    "        return 0\n",
    "    else:\n",
    "        _, tail = head_tail(l)\n",
    "        return 1 + length(tail)\n",
    "\n",
    "    \n",
    "# Tail Recursive Version\n",
    "def length_tr(l):\n",
    "    return length_helper(l,0)\n",
    "\n",
    "def length_helper(l,a):\n",
    "    if l == []:\n",
    "        return a\n",
    "    else:\n",
    "        head, tail = head_tail(l)\n",
    "        return length_helper(tail, a+1)\n",
    "\n",
    "\n",
    "# Collatz Conjecture\n",
    "# The collatz conjecture is that any sequence created from an initial positive integer n following a certain algorithm will \n",
    "# always reach 1\n",
    "## Create the sequence: Starting withing any positive integer n we create a sequence as follows: \n",
    "## if the current number is even then the next number is half the current number. \n",
    "## If the current number is odd then the next number is 3 * current number + 1\n",
    "def collatz(n):\n",
    "    if n == 1:\n",
    "        return True\n",
    "    else:\n",
    "        if n % 2 == 0:\n",
    "            return collatz(n/2)\n",
    "        else:\n",
    "            return collatz(3*n+1)\n",
    "        \n",
    "def collatz_seq(n):\n",
    "    if n == 1:\n",
    "        return [1]\n",
    "    else:\n",
    "        if n % 2 == 0:\n",
    "            return [n] + collatz_seq(n/2)\n",
    "        else:\n",
    "            return [n] +  collatz_seq(3*n+1)    \n",
    "    "
   ]
  },
  {
   "cell_type": "code",
   "execution_count": 48,
   "metadata": {},
   "outputs": [
    {
     "data": {
      "text/plain": [
       "[10, 5.0, 16.0, 8.0, 4.0, 2.0, 1]"
      ]
     },
     "execution_count": 48,
     "metadata": {},
     "output_type": "execute_result"
    }
   ],
   "source": [
    "collatz_seq(10)"
   ]
  },
  {
   "cell_type": "code",
   "execution_count": null,
   "metadata": {
    "collapsed": true
   },
   "outputs": [],
   "source": []
  }
 ],
 "metadata": {
  "kernelspec": {
   "display_name": "Python 3",
   "language": "python",
   "name": "python3"
  },
  "language_info": {
   "codemirror_mode": {
    "name": "ipython",
    "version": 3
   },
   "file_extension": ".py",
   "mimetype": "text/x-python",
   "name": "python",
   "nbconvert_exporter": "python",
   "pygments_lexer": "ipython3",
   "version": "3.6.5"
  }
 },
 "nbformat": 4,
 "nbformat_minor": 2
}
